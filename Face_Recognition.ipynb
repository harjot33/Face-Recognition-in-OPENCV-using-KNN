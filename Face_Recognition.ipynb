{
 "cells": [
  {
   "cell_type": "code",
   "execution_count": 1,
   "metadata": {},
   "outputs": [],
   "source": [
    "import os\n",
    "import numpy as np\n",
    "import cv2"
   ]
  },
  {
   "cell_type": "code",
   "execution_count": 2,
   "metadata": {},
   "outputs": [],
   "source": [
    "###KNN CODE ###\n",
    "def distance(x1,x2):\n",
    "    return np.sqrt(sum((x1-x2)**2))\n",
    "def knn(Train, Test, k=5):\n",
    "    vals = []\n",
    "    m = Train.shape[0]\n",
    "    for i in range(m):\n",
    "        ix = Train[i,:-1]\n",
    "        iy = Train[i,-1]\n",
    "        d = distance(Test,ix)\n",
    "        vals.append([d,iy])\n",
    "    vals = sorted(vals)\n",
    "    vals= vals[:k]\n",
    "    vals = np.array(vals)\n",
    "    freq = np.unique(vals[:,1],return_counts=True)\n",
    "    index = freq[1].argmax()\n",
    "    result = freq[0][index]\n",
    "    return result\n",
    "cap = cv2.VideoCapture(0)\n",
    "face_cascade = cv2.CascadeClassifier(\"haarcascade_frontalface_alt.xml\")\n",
    "skip = 0\n",
    "\n",
    "        "
   ]
  },
  {
   "cell_type": "code",
   "execution_count": 3,
   "metadata": {},
   "outputs": [
    {
     "name": "stdout",
     "output_type": "stream",
     "text": [
      "Loaded Harjot.npy\n"
     ]
    }
   ],
   "source": [
    "# Data Preperation\n",
    "dataset_path = \"./\"\n",
    "face_data = []\n",
    "labels = []\n",
    "class_id = 0\n",
    "names = {}\n",
    "for fx in os.listdir(dataset_path):\n",
    "    if fx.endswith('.npy'):\n",
    "        data_item = np.load(dataset_path+fx)\n",
    "        print(\"Loaded \"+fx)\n",
    "        names[class_id] = fx[:-4] \n",
    "        face_data.append(data_item)\n",
    "    #Creating labels for this\n",
    "        target = class_id*np.ones((data_item.shape[0],))\n",
    "        labels.append(target)\n",
    "face_dataset = np.concatenate(face_data,axis=0)\n",
    "face_labels = np.concatenate(labels,axis=0).reshape((-1,1))\n",
    "Trainset = np.concatenate((face_dataset,face_labels),axis=1)\n",
    "# Testing \n",
    "while True:\n",
    "    ret,frame = cap.read()\n",
    "    if ret == False:\n",
    "        continue\n",
    "    faces = face_cascade.detectMultiScale(frame,1.1,5)\n",
    "    for face in faces:\n",
    "        x,y,w,h = face\n",
    "        offset = 10\n",
    "        face_section = frame[y-offset:y+offset+h,x-offset:x+offset+w]\n",
    "        face_section = cv2.resize(face_section,(100,100))\n",
    "        \n",
    "        out = knn(Trainset,face_section.flatten())\n",
    "        pred_name = names[int(out)]\n",
    "        cv2.putText(frame,pred_name,(x,y-10),cv2.FONT_HERSHEY_SIMPLEX,1,(0,255,255),2,cv2.LINE_AA)\n",
    "        cv2.rectangle(frame,(x,y),(x+w,y+h),(0,255,255),2)\n",
    "      \n",
    "    cv2.imshow(\"Faces\",frame)\n",
    "    key_pressed = cv2.waitKey(1) & 0xFF\n",
    "    if(key_pressed == ord('q')):\n",
    "        break\n",
    "cap.release()\n",
    "cv2.destroyAllWindows()\n",
    "    \n",
    "        \n",
    "    "
   ]
  },
  {
   "cell_type": "code",
   "execution_count": null,
   "metadata": {},
   "outputs": [],
   "source": []
  },
  {
   "cell_type": "code",
   "execution_count": null,
   "metadata": {},
   "outputs": [],
   "source": []
  }
 ],
 "metadata": {
  "kernelspec": {
   "display_name": "Python 3",
   "language": "python",
   "name": "python3"
  },
  "language_info": {
   "codemirror_mode": {
    "name": "ipython",
    "version": 3
   },
   "file_extension": ".py",
   "mimetype": "text/x-python",
   "name": "python",
   "nbconvert_exporter": "python",
   "pygments_lexer": "ipython3",
   "version": "3.7.1"
  }
 },
 "nbformat": 4,
 "nbformat_minor": 2
}

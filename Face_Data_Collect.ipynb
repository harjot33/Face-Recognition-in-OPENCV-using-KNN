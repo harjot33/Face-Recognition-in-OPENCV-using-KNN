{
 "cells": [
  {
   "cell_type": "markdown",
   "metadata": {},
   "source": [
    "# Collecting Data from the webcam"
   ]
  },
  {
   "cell_type": "code",
   "execution_count": 2,
   "metadata": {},
   "outputs": [],
   "source": [
    "import cv2\n",
    "import numpy as np"
   ]
  },
  {
   "cell_type": "code",
   "execution_count": 4,
   "metadata": {},
   "outputs": [
    {
     "name": "stdout",
     "output_type": "stream",
     "text": [
      "try\n",
      "1\n",
      "2\n",
      "3\n",
      "4\n",
      "5\n",
      "6\n",
      "Data has been successfully saved\n"
     ]
    }
   ],
   "source": [
    "cap = cv2.VideoCapture(0)\n",
    "skip = 0\n",
    "face_data = []\n",
    "data_loc = \"./\"\n",
    "user_input = input()\n",
    "face_cascade = cv2.CascadeClassifier(\"haarcascade_frontalface_alt.xml\")\n",
    "while True:\n",
    "    ret, frame = cap.read()\n",
    "    if ret == False:\n",
    "        continue\n",
    "    faces = face_cascade.detectMultiScale(frame,1.1,5)\n",
    "    faces = sorted(faces,key=lambda f:f[2]*f[3])\n",
    "    # Here we use the sorted function to get the largest faces in the image, the last would be the\n",
    "    # the largest face, so we use \"-1\"  ~ area is f[2]*\n",
    "    # f[3] ~ w * h = the area of the box\n",
    "    for face in faces[-1:]:\n",
    "        x,y,w,h = face\n",
    "        cv2.rectangle(frame,(x,y),(x+w,y+h),(255,0,0),2)\n",
    "        # Extract the desired area of frame which contains the face : region of interest\n",
    "        offset = 10\n",
    "        face_section = frame[y-offset : y+offset+h, x-offset : x+w+offset]\n",
    "        face_section = cv2.resize(face_section,(100,100))\n",
    "        skip+=1\n",
    "        if skip%10 ==0:\n",
    "            face_data.append(face_section)\n",
    "            print(len(face_data))\n",
    "    cv2.imshow(\"Video Capture\",frame)\n",
    "    cv2.imshow(\"Frame Section\",face_section)\n",
    "    key_pressed = cv2.waitKey(1) & 0xFF\n",
    "    if(key_pressed == ord('q')):\n",
    "\n",
    "        break\n",
    "\n",
    "cap.release()\n",
    "cv2.destroyAllWindows()\n",
    "face_data = np.asarray(face_data)\n",
    "data_loc  = data_loc + user_input + '.npy'\n",
    "face_data = face_data.reshape((face_data.shape[0],-1))\n",
    "np.save(data_loc,face_data)\n",
    "print(\"Data has been successfully saved\")"
   ]
  },
  {
   "cell_type": "code",
   "execution_count": 12,
   "metadata": {},
   "outputs": [
    {
     "name": "stdout",
     "output_type": "stream",
     "text": [
      "5\n"
     ]
    }
   ],
   "source": [
    "fax = [1,2,3,4,5]\n",
    "for f in fax[-1:]:\n",
    "    print(f)"
   ]
  },
  {
   "cell_type": "code",
   "execution_count": 10,
   "metadata": {},
   "outputs": [
    {
     "name": "stdout",
     "output_type": "stream",
     "text": [
      "Data has been successfully saved\n"
     ]
    }
   ],
   "source": [
    "face_data = np.asarray(face_data)\n",
    "data_loc  = data_loc + user_input + '.npy'\n",
    "face_data = face_data.reshape((face_data.shape[0],-1))\n",
    "np.save(data_loc,face_data)\n",
    "print(\"Data has been successfully saved\")"
   ]
  },
  {
   "cell_type": "code",
   "execution_count": 11,
   "metadata": {},
   "outputs": [
    {
     "name": "stdout",
     "output_type": "stream",
     "text": [
      "(15, 30000)\n"
     ]
    }
   ],
   "source": [
    "print(face_data.shape)"
   ]
  },
  {
   "cell_type": "code",
   "execution_count": null,
   "metadata": {},
   "outputs": [],
   "source": []
  }
 ],
 "metadata": {
  "kernelspec": {
   "display_name": "Python 3",
   "language": "python",
   "name": "python3"
  },
  "language_info": {
   "codemirror_mode": {
    "name": "ipython",
    "version": 3
   },
   "file_extension": ".py",
   "mimetype": "text/x-python",
   "name": "python",
   "nbconvert_exporter": "python",
   "pygments_lexer": "ipython3",
   "version": "3.7.1"
  }
 },
 "nbformat": 4,
 "nbformat_minor": 2
}
